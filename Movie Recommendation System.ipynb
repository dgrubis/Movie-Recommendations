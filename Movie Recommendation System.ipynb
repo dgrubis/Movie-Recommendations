{
 "cells": [
  {
   "cell_type": "markdown",
   "metadata": {},
   "source": [
    "# Movie Recommendations Using Matrix Factorization"
   ]
  },
  {
   "cell_type": "markdown",
   "metadata": {},
   "source": [
    "Recommendation algorithms are being implemented everywhere nowadays. So many companies require the use of a good recomendation system to have their technology and product run effectively. \n",
    "\n",
    "Good recommendations create more positive experiences for the user and thus more time on the product. That was the basis for Netflix to hold their Netflix Prize, a competition to improve their collaborative filtering algorithm that predicts a users ratings for movies based on only a dataset users and their ratings of movies. \n",
    "\n",
    "I attempt to tackle this problem by using Matrix Factorization. This method was implemented in the winning team's solution. Matrix Factorization essentially is stemmed from Model-Based Collaborative Filtering. It works as an unsupervised learning problem dealing with latent factors that exist in the problem. MF works to learn the latent factors of both users and movies and taking the dot product results in the prediction of the unknown rating.\n",
    "\n",
    "The original user-movie matrix is very sparse as it contains mostly 0s of unknown ratings. MF turns this sparse matrix into low-rank structure by compressing the sparse information into a k-dimenional space, where k represents the number of latent factors. It creates a smaller U matrix (\"row factor\") and smaller V matrix (\"column factor\"). Multiplying these creates the approximation of the orginial, sparse matrix."
   ]
  },
  {
   "cell_type": "code",
   "execution_count": 245,
   "metadata": {},
   "outputs": [],
   "source": [
    "import pandas as pd\n",
    "import numpy as np\n",
    "import implicit\n",
    "from scipy.sparse import csr_matrix\n",
    "from scipy.sparse import coo_matrix\n",
    "from sklearn.model_selection import train_test_split\n",
    "import io"
   ]
  },
  {
   "cell_type": "code",
   "execution_count": 246,
   "metadata": {},
   "outputs": [
    {
     "data": {
      "text/html": [
       "<div>\n",
       "<style>\n",
       "    .dataframe thead tr:only-child th {\n",
       "        text-align: right;\n",
       "    }\n",
       "\n",
       "    .dataframe thead th {\n",
       "        text-align: left;\n",
       "    }\n",
       "\n",
       "    .dataframe tbody tr th {\n",
       "        vertical-align: top;\n",
       "    }\n",
       "</style>\n",
       "<table border=\"1\" class=\"dataframe\">\n",
       "  <thead>\n",
       "    <tr style=\"text-align: right;\">\n",
       "      <th></th>\n",
       "      <th>userID</th>\n",
       "      <th>movieID</th>\n",
       "      <th>rating</th>\n",
       "      <th>timestamp</th>\n",
       "    </tr>\n",
       "  </thead>\n",
       "  <tbody>\n",
       "    <tr>\n",
       "      <th>0</th>\n",
       "      <td>196</td>\n",
       "      <td>242</td>\n",
       "      <td>3.0</td>\n",
       "      <td>881250949</td>\n",
       "    </tr>\n",
       "    <tr>\n",
       "      <th>1</th>\n",
       "      <td>186</td>\n",
       "      <td>302</td>\n",
       "      <td>3.0</td>\n",
       "      <td>891717742</td>\n",
       "    </tr>\n",
       "    <tr>\n",
       "      <th>2</th>\n",
       "      <td>22</td>\n",
       "      <td>377</td>\n",
       "      <td>1.0</td>\n",
       "      <td>878887116</td>\n",
       "    </tr>\n",
       "    <tr>\n",
       "      <th>3</th>\n",
       "      <td>244</td>\n",
       "      <td>51</td>\n",
       "      <td>2.0</td>\n",
       "      <td>880606923</td>\n",
       "    </tr>\n",
       "    <tr>\n",
       "      <th>4</th>\n",
       "      <td>166</td>\n",
       "      <td>346</td>\n",
       "      <td>1.0</td>\n",
       "      <td>886397596</td>\n",
       "    </tr>\n",
       "  </tbody>\n",
       "</table>\n",
       "</div>"
      ],
      "text/plain": [
       "   userID  movieID  rating  timestamp\n",
       "0     196      242     3.0  881250949\n",
       "1     186      302     3.0  891717742\n",
       "2      22      377     1.0  878887116\n",
       "3     244       51     2.0  880606923\n",
       "4     166      346     1.0  886397596"
      ]
     },
     "execution_count": 246,
     "metadata": {},
     "output_type": "execute_result"
    }
   ],
   "source": [
    "ratings = '/Users/dgrubis/Desktop/u.data'\n",
    "headers = ['userID', 'movieID', 'rating', 'timestamp']\n",
    "header_row = None\n",
    "ratings_df = pd.read_csv(ratings,\n",
    "                         sep='\\t',\n",
    "                         names=headers,\n",
    "                         header=header_row,\n",
    "                         dtype={\n",
    "                           'userID': np.int32,\n",
    "                           'movieID': np.int32,\n",
    "                           'rating': np.float32,\n",
    "                           'timestamp': np.int32,\n",
    "                         })\n",
    "ratings_df.head()\n",
    "\n",
    "#For this project I'm just going with the ratings file of the 100k MovieLens dataset to predict from only previous ratings\n",
    "#Further work for me to try out is working in the users.csv(includes age and gender for users) and movies.tsv(includes year and genre of movies) to see how the predictions change with more features"
   ]
  },
  {
   "cell_type": "code",
   "execution_count": 247,
   "metadata": {
    "collapsed": true
   },
   "outputs": [],
   "source": [
    "n_users = np.unique(ratings_df.userID.as_matrix()).shape[0]\n",
    "n_movies = np.unique(ratings_df.movieID.as_matrix()).shape[0]"
   ]
  },
  {
   "cell_type": "code",
   "execution_count": 248,
   "metadata": {},
   "outputs": [
    {
     "data": {
      "text/plain": [
       "943"
      ]
     },
     "execution_count": 248,
     "metadata": {},
     "output_type": "execute_result"
    }
   ],
   "source": [
    "n_users"
   ]
  },
  {
   "cell_type": "code",
   "execution_count": 249,
   "metadata": {},
   "outputs": [
    {
     "data": {
      "text/plain": [
       "1682"
      ]
     },
     "execution_count": 249,
     "metadata": {},
     "output_type": "execute_result"
    }
   ],
   "source": [
    "n_movies"
   ]
  },
  {
   "cell_type": "markdown",
   "metadata": {},
   "source": [
    "Dataset contains ratings for 943 users and 1,682 movies. This will also be the dimension of the n_users x n_movies sparse matrix."
   ]
  },
  {
   "cell_type": "code",
   "execution_count": 250,
   "metadata": {},
   "outputs": [
    {
     "data": {
      "text/plain": [
       "array([[1.950e+02, 2.410e+02, 3.000e+00],\n",
       "       [1.850e+02, 3.010e+02, 3.000e+00],\n",
       "       [2.100e+01, 3.760e+02, 1.000e+00],\n",
       "       ...,\n",
       "       [2.750e+02, 1.089e+03, 1.000e+00],\n",
       "       [1.200e+01, 2.240e+02, 2.000e+00],\n",
       "       [1.100e+01, 2.020e+02, 3.000e+00]])"
      ]
     },
     "execution_count": 250,
     "metadata": {},
     "output_type": "execute_result"
    }
   ],
   "source": [
    "#We need to turn the pandas dataframe into a numpy array in order to create the sparse matrix\n",
    "ratings = ratings_df.as_matrix(['userID', 'movieID', 'rating'])\n",
    "ratings[:,0] -= 1\n",
    "ratings[:,1] -= 1\n",
    "ratings"
   ]
  },
  {
   "cell_type": "code",
   "execution_count": 251,
   "metadata": {
    "collapsed": true
   },
   "outputs": [],
   "source": [
    "#split the ratings array into training and testing data\n",
    "ratings_train, ratings_test = train_test_split(ratings, test_size = 0.10)"
   ]
  },
  {
   "cell_type": "code",
   "execution_count": 252,
   "metadata": {},
   "outputs": [
    {
     "data": {
      "text/plain": [
       "90000"
      ]
     },
     "execution_count": 252,
     "metadata": {},
     "output_type": "execute_result"
    }
   ],
   "source": [
    "len(ratings_train)"
   ]
  },
  {
   "cell_type": "code",
   "execution_count": 253,
   "metadata": {},
   "outputs": [
    {
     "data": {
      "text/plain": [
       "10000"
      ]
     },
     "execution_count": 253,
     "metadata": {},
     "output_type": "execute_result"
    }
   ],
   "source": [
    "len(ratings_test)"
   ]
  },
  {
   "cell_type": "markdown",
   "metadata": {},
   "source": [
    "## Creating the Sparse Matrix"
   ]
  },
  {
   "cell_type": "code",
   "execution_count": 254,
   "metadata": {},
   "outputs": [],
   "source": [
    "user_tr, movie_tr, rating_tr = zip(*ratings_train)\n",
    "sparse_tr = csr_matrix((rating_tr, (user_tr, movie_tr)), shape = (n_users, n_movies))\n",
    "user_ts, movie_ts, rating_ts = zip(*ratings_test)\n",
    "sparse_ts = csr_matrix((rating_ts, (user_ts, movie_ts)), shape = (n_users, n_movies))"
   ]
  },
  {
   "cell_type": "markdown",
   "metadata": {},
   "source": [
    "Zip unpacks the matrix of each element contained and then the sparse matrix is created by csr_matrix(). This creates a sparse matrix with confidence levels and uses the user id and movie id as the indexes to each rating.\n",
    "\n",
    "The dimensions of the matrix is 943 x 1682."
   ]
  },
  {
   "cell_type": "markdown",
   "metadata": {},
   "source": [
    "## Using Alternating Least Squares to Fit Model"
   ]
  },
  {
   "cell_type": "markdown",
   "metadata": {},
   "source": [
    "The algorithm I will be implementing to Matrix Factorization is Alternating Least Squares. ALS is the method for finding the row factor (which can be called U) and the column factor (which can be called V) described above. It works by randomly initializing U and solving for V. Then that value of V can then be used to solve U. This proccess then iterates back and forth until it converges to the best approximation of the orginal matrix.\n",
    "\n",
    "This is a popular algorithm for dealing with implicit interactions. These consist of ratings that users don't give directly but can be assumed and determined from other methods and tracking data. Explicit ratings are ratings that users give directly. While the Netflix prize dealt with explicit ratings, implicit ratings are far more common in actual recommendation systems. Users don't always give ratings or other feedback so the data is much more scare than implicit feedback, which could be time spent on a video or number of clicks. This kind of data is much more available and thus easier to work into recommendation systems. \n",
    "\n",
    "I will make a key assumption about the MovieLens dataset and say that the ratings 1-5, represent an implicit feedback. Perhaps representing the time spent on a certain movie and then binned up into a discrete scale."
   ]
  },
  {
   "cell_type": "code",
   "execution_count": 300,
   "metadata": {},
   "outputs": [],
   "source": [
    "model = implicit.als.AlternatingLeastSquares(factors = 50,\n",
    "                                            regularization = 0.1,\n",
    "                                            iterations = 150,\n",
    "                                            calculate_training_loss = True)\n",
    "#A regularization term is used as a parameter to avoid overfitting"
   ]
  },
  {
   "cell_type": "code",
   "execution_count": 301,
   "metadata": {},
   "outputs": [
    {
     "name": "stderr",
     "output_type": "stream",
     "text": [
      "100%|██████████| 150.0/150 [00:21<00:00,  7.00it/s, loss=0.114]\n"
     ]
    }
   ],
   "source": [
    "model.fit(sparse_tr)"
   ]
  },
  {
   "cell_type": "markdown",
   "metadata": {},
   "source": [
    "After tuning the hyperparamters the final model defines 50 latent factors to, a regularization term of 0.1 and 150 iterations to run until convergence."
   ]
  },
  {
   "cell_type": "markdown",
   "metadata": {},
   "source": [
    "## Evaluating the Model"
   ]
  },
  {
   "cell_type": "code",
   "execution_count": 302,
   "metadata": {},
   "outputs": [
    {
     "data": {
      "text/html": [
       "<div>\n",
       "<style>\n",
       "    .dataframe thead tr:only-child th {\n",
       "        text-align: right;\n",
       "    }\n",
       "\n",
       "    .dataframe thead th {\n",
       "        text-align: left;\n",
       "    }\n",
       "\n",
       "    .dataframe tbody tr th {\n",
       "        vertical-align: top;\n",
       "    }\n",
       "</style>\n",
       "<table border=\"1\" class=\"dataframe\">\n",
       "  <thead>\n",
       "    <tr style=\"text-align: right;\">\n",
       "      <th></th>\n",
       "      <th>movieID</th>\n",
       "      <th>name</th>\n",
       "      <th>year</th>\n",
       "      <th>genre1</th>\n",
       "      <th>genre2</th>\n",
       "      <th>genre3</th>\n",
       "    </tr>\n",
       "  </thead>\n",
       "  <tbody>\n",
       "    <tr>\n",
       "      <th>0</th>\n",
       "      <td>1</td>\n",
       "      <td>Toy Story</td>\n",
       "      <td>1995</td>\n",
       "      <td>Animation</td>\n",
       "      <td>Children's</td>\n",
       "      <td>Comedy</td>\n",
       "    </tr>\n",
       "    <tr>\n",
       "      <th>1</th>\n",
       "      <td>2</td>\n",
       "      <td>Jumanji</td>\n",
       "      <td>1995</td>\n",
       "      <td>Adventure</td>\n",
       "      <td>Children's</td>\n",
       "      <td>Fantasy</td>\n",
       "    </tr>\n",
       "    <tr>\n",
       "      <th>2</th>\n",
       "      <td>3</td>\n",
       "      <td>Grumpier Old Men</td>\n",
       "      <td>1995</td>\n",
       "      <td>Comedy</td>\n",
       "      <td>Romance</td>\n",
       "      <td>NaN</td>\n",
       "    </tr>\n",
       "    <tr>\n",
       "      <th>3</th>\n",
       "      <td>4</td>\n",
       "      <td>Waiting to Exhale</td>\n",
       "      <td>1995</td>\n",
       "      <td>Comedy</td>\n",
       "      <td>Drama</td>\n",
       "      <td>NaN</td>\n",
       "    </tr>\n",
       "    <tr>\n",
       "      <th>4</th>\n",
       "      <td>5</td>\n",
       "      <td>Father of the Bride Part II</td>\n",
       "      <td>1995</td>\n",
       "      <td>Comedy</td>\n",
       "      <td>NaN</td>\n",
       "      <td>NaN</td>\n",
       "    </tr>\n",
       "  </tbody>\n",
       "</table>\n",
       "</div>"
      ],
      "text/plain": [
       "   movieID                          name  year     genre1      genre2   genre3\n",
       "0        1                    Toy Story   1995  Animation  Children's   Comedy\n",
       "1        2                      Jumanji   1995  Adventure  Children's  Fantasy\n",
       "2        3             Grumpier Old Men   1995     Comedy     Romance      NaN\n",
       "3        4            Waiting to Exhale   1995     Comedy       Drama      NaN\n",
       "4        5  Father of the Bride Part II   1995     Comedy         NaN      NaN"
      ]
     },
     "execution_count": 302,
     "metadata": {},
     "output_type": "execute_result"
    }
   ],
   "source": [
    "movies_df = pd.read_table('/Users/dgrubis/Desktop/STATS 535/movies.tsv')\n",
    "movies_df.head()"
   ]
  },
  {
   "cell_type": "code",
   "execution_count": 346,
   "metadata": {},
   "outputs": [
    {
     "name": "stdout",
     "output_type": "stream",
     "text": [
      "User 670 has already rated 46 movies.\n"
     ]
    },
    {
     "data": {
      "text/html": [
       "<div>\n",
       "<style>\n",
       "    .dataframe thead tr:only-child th {\n",
       "        text-align: right;\n",
       "    }\n",
       "\n",
       "    .dataframe thead th {\n",
       "        text-align: left;\n",
       "    }\n",
       "\n",
       "    .dataframe tbody tr th {\n",
       "        vertical-align: top;\n",
       "    }\n",
       "</style>\n",
       "<table border=\"1\" class=\"dataframe\">\n",
       "  <thead>\n",
       "    <tr style=\"text-align: right;\">\n",
       "      <th></th>\n",
       "      <th>name</th>\n",
       "      <th>genre1</th>\n",
       "      <th>genre2</th>\n",
       "      <th>genre3</th>\n",
       "    </tr>\n",
       "  </thead>\n",
       "  <tbody>\n",
       "    <tr>\n",
       "      <th>0</th>\n",
       "      <td>Toy Story</td>\n",
       "      <td>Animation</td>\n",
       "      <td>Children's</td>\n",
       "      <td>Comedy</td>\n",
       "    </tr>\n",
       "    <tr>\n",
       "      <th>1</th>\n",
       "      <td>Dracula: Dead and Loving It</td>\n",
       "      <td>Comedy</td>\n",
       "      <td>Horror</td>\n",
       "      <td>NaN</td>\n",
       "    </tr>\n",
       "    <tr>\n",
       "      <th>2</th>\n",
       "      <td>Exotica</td>\n",
       "      <td>Drama</td>\n",
       "      <td>NaN</td>\n",
       "      <td>NaN</td>\n",
       "    </tr>\n",
       "    <tr>\n",
       "      <th>3</th>\n",
       "      <td>Spellbound</td>\n",
       "      <td>Mystery</td>\n",
       "      <td>Romance</td>\n",
       "      <td>Thriller</td>\n",
       "    </tr>\n",
       "    <tr>\n",
       "      <th>4</th>\n",
       "      <td>Heat</td>\n",
       "      <td>Action</td>\n",
       "      <td>Crime</td>\n",
       "      <td>Thriller</td>\n",
       "    </tr>\n",
       "  </tbody>\n",
       "</table>\n",
       "</div>"
      ],
      "text/plain": [
       "                           name     genre1      genre2    genre3\n",
       "0                    Toy Story   Animation  Children's    Comedy\n",
       "1  Dracula: Dead and Loving It      Comedy      Horror       NaN\n",
       "2                      Exotica       Drama         NaN       NaN\n",
       "3                   Spellbound     Mystery     Romance  Thriller\n",
       "4                         Heat      Action       Crime  Thriller"
      ]
     },
     "execution_count": 346,
     "metadata": {},
     "output_type": "execute_result"
    }
   ],
   "source": [
    "def recommendations(userID):\n",
    "    \n",
    "    user_data = ratings_df[ratings_df.userID == (userID)]\n",
    "    user_full = (user_data.merge(movies_df, how = 'left', left_on = 'movieID', right_on = 'movieID').\n",
    "                     sort_values(['rating'], ascending=False)\n",
    "                 )\n",
    "    print ('User {0} has already rated {1} movies.'.format(userID, user_full.shape[0]))\n",
    "    movie_rec = pd.DataFrame(model.recommend(userID, sparse_ts), columns = ['movieID', 'rating'])\n",
    "    user_movie = movie_rec.merge(movies_df, how = 'outer', left_on = 'movieID', right_on = 'movieID').sort_values('rating', ascending = False)\n",
    "    user_movie_2 = user_movie[['name', 'genre1', 'genre2', 'genre3']]\n",
    "    return user_movie_2.head()\n",
    "\n",
    "recommendations(670)"
   ]
  },
  {
   "cell_type": "markdown",
   "metadata": {},
   "source": [
    "I wrote a function above that generates the top 5 recommendations for a certain user. \n",
    "\n",
    "I included the genre types of each movie to show that the latent factors are present. They could potentially be represented by these genres as a feature but the recommendation system quantifies this without the direct inclusion of these features. Pretty neat!"
   ]
  },
  {
   "cell_type": "code",
   "execution_count": 307,
   "metadata": {},
   "outputs": [],
   "source": [
    "user_vecs = model.user_factors\n",
    "item_vecs = model.item_factors"
   ]
  },
  {
   "cell_type": "code",
   "execution_count": 308,
   "metadata": {},
   "outputs": [
    {
     "data": {
      "text/plain": [
       "0.14052335815286918"
      ]
     },
     "execution_count": 308,
     "metadata": {},
     "output_type": "execute_result"
    }
   ],
   "source": [
    "def predict(user_vecs, item_vecs):\n",
    "    preds = []\n",
    "    i = 0\n",
    "    for i in range(n_users):\n",
    "            pred = np.dot(user_vecs[i], item_vecs[i])\n",
    "            preds.append(pred)\n",
    "            i += 1\n",
    "    return sum(preds) / len(preds)\n",
    "predict(user_vecs, item_vecs)\n",
    "\n",
    "#the mean prediction for all users by taking the dot product of each user with each movie"
   ]
  }
 ],
 "metadata": {
  "kernelspec": {
   "display_name": "Python 3",
   "language": "python",
   "name": "python3"
  },
  "language_info": {
   "codemirror_mode": {
    "name": "ipython",
    "version": 3
   },
   "file_extension": ".py",
   "mimetype": "text/x-python",
   "name": "python",
   "nbconvert_exporter": "python",
   "pygments_lexer": "ipython3",
   "version": "3.6.3"
  }
 },
 "nbformat": 4,
 "nbformat_minor": 2
}
